{
 "cells": [
  {
   "cell_type": "markdown",
   "source": [
    "# Generate audio training set w/without noise\n",
    "Start with mono signals\n",
    "-Langchen Fan 6/30/22"
   ],
   "metadata": {
    "collapsed": false,
    "pycharm": {
     "name": "#%% md\n"
    }
   }
  },
  {
   "cell_type": "code",
   "execution_count": 1,
   "outputs": [],
   "source": [
    "import numpy as np\n",
    "import pandas as pd\n",
    "import scipy.io.wavfile as wavfile\n",
    "import os\n",
    "import numpy.random as rng\n",
    "from scipy import signal\n",
    "import matplotlib.pyplot as plt\n",
    "import pickle"
   ],
   "metadata": {
    "collapsed": false,
    "pycharm": {
     "name": "#%%\n"
    }
   }
  },
  {
   "cell_type": "code",
   "execution_count": 2,
   "outputs": [
    {
     "name": "stderr",
     "output_type": "stream",
     "text": [
      "/var/folders/_l/yljdbk6x7g17h77d_0hz8lw40000gp/T/ipykernel_26511/2613051168.py:8: WavFileWarning: Chunk (non-data) not understood, skipping it.\n",
      "  fs, wav = wavfile.read(fpath+flist[i]) #set mono=False for stereo signals\n"
     ]
    }
   ],
   "source": [
    "fpath = 'unprocessed_audio/Mono/' # file path, adjust accordingly\n",
    "flist = os.listdir(fpath)\n",
    "wavlist = []\n",
    "station_names = []\n",
    "# read wav files\n",
    "for i in range(len(flist)):\n",
    "    if flist[i][-3:]=='wav':\n",
    "        fs, wav = wavfile.read(fpath+flist[i]) #set mono=False for stereo signals\n",
    "        wavlist.append(wav)\n",
    "        station_names.append(flist[i][:4])\n",
    "# read noise files\n",
    "# fs,static = wavfile.read('simulated_static.wav')\n",
    "n=fs*30 # audio clip length"
   ],
   "metadata": {
    "collapsed": false,
    "pycharm": {
     "name": "#%%\n"
    }
   }
  },
  {
   "cell_type": "code",
   "execution_count": 3,
   "outputs": [],
   "source": [
    "# calculate audio rms\n",
    "def rms(sig):\n",
    "    return np.sqrt(np.mean(sig**2))"
   ],
   "metadata": {
    "collapsed": false,
    "pycharm": {
     "name": "#%%\n"
    }
   }
  },
  {
   "cell_type": "code",
   "execution_count": 4,
   "outputs": [],
   "source": [
    "# convert power to dB\n",
    "def db(PSD):\n",
    "    return 10*np.log10(PSD)"
   ],
   "metadata": {
    "collapsed": false,
    "pycharm": {
     "name": "#%%\n"
    }
   }
  },
  {
   "cell_type": "code",
   "execution_count": 5,
   "outputs": [
    {
     "name": "stderr",
     "output_type": "stream",
     "text": [
      "/var/folders/_l/yljdbk6x7g17h77d_0hz8lw40000gp/T/ipykernel_26511/1879139547.py:3: RuntimeWarning: divide by zero encountered in log10\n",
      "  return 10*np.log10(PSD)\n"
     ]
    },
    {
     "ename": "IndexError",
     "evalue": "list index out of range",
     "output_type": "error",
     "traceback": [
      "\u001B[0;31m---------------------------------------------------------------------------\u001B[0m",
      "\u001B[0;31mIndexError\u001B[0m                                Traceback (most recent call last)",
      "Input \u001B[0;32mIn [5]\u001B[0m, in \u001B[0;36m<cell line: 5>\u001B[0;34m()\u001B[0m\n\u001B[1;32m      5\u001B[0m \u001B[38;5;28;01mfor\u001B[39;00m i \u001B[38;5;129;01min\u001B[39;00m \u001B[38;5;28mrange\u001B[39m(\u001B[38;5;241m0\u001B[39m,\u001B[38;5;241m10\u001B[39m): \u001B[38;5;66;03m# 10 station\u001B[39;00m\n\u001B[1;32m      6\u001B[0m     \u001B[38;5;28;01mfor\u001B[39;00m j \u001B[38;5;129;01min\u001B[39;00m \u001B[38;5;28mrange\u001B[39m(\u001B[38;5;241m0\u001B[39m,\u001B[38;5;241m50\u001B[39m):\n\u001B[0;32m----> 7\u001B[0m         wav \u001B[38;5;241m=\u001B[39m np\u001B[38;5;241m.\u001B[39marray(\u001B[43mwavlist\u001B[49m\u001B[43m[\u001B[49m\u001B[43mi\u001B[49m\u001B[43m]\u001B[49m[j\u001B[38;5;241m*\u001B[39mn:(j\u001B[38;5;241m+\u001B[39m\u001B[38;5;241m1\u001B[39m)\u001B[38;5;241m*\u001B[39mn])\n\u001B[1;32m      8\u001B[0m         wav \u001B[38;5;241m=\u001B[39m wav\u001B[38;5;241m/\u001B[39mrms(wav)\u001B[38;5;241m*\u001B[39mtarget_rms\n\u001B[1;32m      9\u001B[0m         \u001B[38;5;28;01mif\u001B[39;00m j\u001B[38;5;241m%\u001B[39m\u001B[38;5;241m3\u001B[39m\u001B[38;5;241m!=\u001B[39m\u001B[38;5;241m2\u001B[39m:\n",
      "\u001B[0;31mIndexError\u001B[0m: list index out of range"
     ]
    }
   ],
   "source": [
    "# generate echo pieces\n",
    "target_rms=0.2\n",
    "atten = [0.5,0.3] # attenuation factor for echo sound\n",
    "# use different piece was used across SNRs and noise types to avoid model learns the clean signal\n",
    "for i in range(0,9): # station\n",
    "    for j in range(0,50):\n",
    "        wav = np.array(wavlist[i][j*n:(j+1)*n])\n",
    "        wav = wav/rms(wav)*target_rms\n",
    "        if j%3!=2:\n",
    "            echo_len = fs*round(rng.default_rng().uniform(low=15,high=20)) # echo piece ranged from 15 to 21 sec\n",
    "            echo_start = rng.default_rng().integers(15*fs-2)\n",
    "            delay = echo_start+fs*round(rng.default_rng().uniform(low=1,high=3))\n",
    "            echo = wav[echo_start:echo_start+echo_len]\n",
    "            wav[delay:np.min([delay+echo_len,len(wav)])] += atten[j%3]*echo[:np.min([echo_len,len(wav)-delay])]\n",
    "            fname = '/Users/langchenfan/Library/CloudStorage/OneDrive-iHeartMediaInc/new_test_files/'+station_names[i]+'_'+str(j+1)+'_echo_atten'+str(atten[j%3])\n",
    "        else:\n",
    "            fname = '/Users/langchenfan/Library/CloudStorage/OneDrive-iHeartMediaInc/new_test_files/'+station_names[i]+'_'+str(j+1)+'_inf'\n",
    "        wavfile.write(fname+'.wav',rate=fs,data=wav) #write wav files\n",
    "        f,t,Sxx = signal.spectrogram(wav,fs,window='hann',nperseg=1024,nfft=2048,noverlap=512) #calculate spectrogram\n",
    "        # fig=plt.figure()\n",
    "        # ax=plt.pcolormesh(t,f,db(Sxx)) # plot to check\n",
    "        # plt.ylabel('Frequency (Hz)')\n",
    "        # plt.xlabel('Time (sec)')\n",
    "        # plt.colorbar()\n",
    "        # plt.show()\n",
    "        pickle.dump([f,t,db(Sxx)],open(fname+'.pkl','wb'))"
   ],
   "metadata": {
    "collapsed": false,
    "pycharm": {
     "name": "#%%\n"
    }
   }
  },
  {
   "cell_type": "code",
   "execution_count": 6,
   "outputs": [
    {
     "name": "stderr",
     "output_type": "stream",
     "text": [
      "/var/folders/_l/yljdbk6x7g17h77d_0hz8lw40000gp/T/ipykernel_26511/1879139547.py:3: RuntimeWarning: divide by zero encountered in log10\n",
      "  return 10*np.log10(PSD)\n"
     ]
    }
   ],
   "source": [
    "# generate popping pieces\n",
    "target_rms=0.2\n",
    "# use different piece was used across SNRs and noise types to avoid model learns the clean signal\n",
    "for i in range(0,9): # station\n",
    "    for j in range(50,100):\n",
    "        wav = np.array(wavlist[i][j*n:(j+1)*n])\n",
    "        wav = wav/rms(wav)*target_rms\n",
    "        if j%2==0:\n",
    "            p_len = fs*round(rng.default_rng().uniform(low=15,high=20)) # echo piece ranged from 15 to 21 sec\n",
    "            pstart = rng.default_rng().integers(10*fs-2)\n",
    "            end = p_len+pstart\n",
    "            vec = rng.default_rng().poisson(20,size=(70,)) #lambda =200ms\n",
    "            vec2 = rng.default_rng().poisson(15,size=(70,)) #lambda =150ms\n",
    "            for k in range(0,70):\n",
    "                pp = round(vec[k]*fs/100)\n",
    "                if (pstart>end) or (pstart+pp>=len(wav)):\n",
    "                    break\n",
    "                wav[pstart:pstart+pp]=0\n",
    "                pstart+=pp+round(vec2[k]*fs/100)\n",
    "            fname = '/Users/langchenfan/Library/CloudStorage/OneDrive-iHeartMediaInc/new_test_files/'+station_names[i]+'_'+str(j+1)+'_popping'\n",
    "        else:\n",
    "            fname = '/Users/langchenfan/Library/CloudStorage/OneDrive-iHeartMediaInc/new_test_files/'+station_names[i]+'_'+str(j+1)+'_inf'\n",
    "        wavfile.write(fname+'.wav',rate=fs,data=wav) #write wav files\n",
    "        f,t,Sxx = signal.spectrogram(wav,fs,window='hann',nperseg=1024,nfft=2048,noverlap=512) #calculate spectrogram\n",
    "        # fig=plt.figure()\n",
    "        # ax=plt.pcolormesh(t,f,db(Sxx)) # plot to check\n",
    "        # plt.ylabel('Frequency (Hz)')\n",
    "        # plt.xlabel('Time (sec)')\n",
    "        # plt.colorbar()\n",
    "        # plt.show()\n",
    "        pickle.dump([f,t,db(Sxx)],open(fname+'.pkl','wb'))"
   ],
   "metadata": {
    "collapsed": false,
    "pycharm": {
     "name": "#%%\n"
    }
   }
  },
  {
   "cell_type": "code",
   "execution_count": 8,
   "outputs": [
    {
     "name": "stderr",
     "output_type": "stream",
     "text": [
      "/var/folders/_l/yljdbk6x7g17h77d_0hz8lw40000gp/T/ipykernel_26511/1879139547.py:3: RuntimeWarning: divide by zero encountered in log10\n",
      "  return 10*np.log10(PSD)\n"
     ]
    }
   ],
   "source": [
    "# generate noisy pieces\n",
    "target_rms=0.2\n",
    "atten = [0.3,0.1] # attenuation factor for echo sound\n",
    "# use different piece was used across SNRs and noise types to avoid model learns the clean signal\n",
    "for i in range(0,9): # station\n",
    "    for j in range(100,150):\n",
    "        wav = np.array(wavlist[i][j*n:(j+1)*n])\n",
    "        wav = wav/rms(wav)*target_rms\n",
    "        if j%3!=2:\n",
    "            noise_len = fs*round(rng.default_rng().uniform(low=15,high=20)) # echo piece ranged from 15 to 21 sec\n",
    "            noise_start = rng.default_rng().integers(10*fs-2)\n",
    "            noise = rng.default_rng().uniform(low=-1,high=1,size=noise_len)\n",
    "            weight = np.abs(signal.hilbert(wav[noise_start:noise_start+noise_len]))\n",
    "            wav[noise_start:noise_start+noise_len] += np.multiply(noise*atten[j%3],weight)\n",
    "            fname = '/Users/langchenfan/Library/CloudStorage/OneDrive-iHeartMediaInc/new_test_files/'+station_names[i]+'_'+str(j+1)+'_noise_atten'+str(atten[j%3])\n",
    "        else:\n",
    "            fname = '/Users/langchenfan/Library/CloudStorage/OneDrive-iHeartMediaInc/new_test_files/'+station_names[i]+'_'+str(j+1)+'_inf'\n",
    "        wavfile.write(fname+'.wav',rate=fs,data=wav) #write wav files\n",
    "        f,t,Sxx = signal.spectrogram(wav,fs,window='hann',nperseg=1024,nfft=2048,noverlap=512) #calculate spectrogram\n",
    "        # fig=plt.figure()\n",
    "        # ax=plt.pcolormesh(t,f,db(Sxx)) # plot to check\n",
    "        # plt.ylabel('Frequency (Hz)')\n",
    "        # plt.xlabel('Time (sec)')\n",
    "        # plt.colorbar()\n",
    "        # plt.show()\n",
    "        pickle.dump([f,t,db(Sxx)],open(fname+'.pkl','wb'))"
   ],
   "metadata": {
    "collapsed": false,
    "pycharm": {
     "name": "#%%\n"
    }
   }
  },
  {
   "cell_type": "code",
   "execution_count": 20,
   "outputs": [
    {
     "name": "stdout",
     "output_type": "stream",
     "text": [
      "Predicting *noise 540pm.wav ......\n"
     ]
    },
    {
     "name": "stderr",
     "output_type": "stream",
     "text": [
      "/var/folders/_l/yljdbk6x7g17h77d_0hz8lw40000gp/T/ipykernel_55540/3767882252.py:16: WavFileWarning: Chunk (non-data) not understood, skipping it.\n",
      "  fs, wav = wavfile.read(fpath2+wavlist[i]) #set mono=False for stereo signals\n"
     ]
    },
    {
     "name": "stdout",
     "output_type": "stream",
     "text": [
      "It takes 1.7882061004638672\n",
      "Predicting **intermittent-dualtrack WBZY.wav ......\n",
      "It takes 100.56111931800842\n",
      "Predicting *6-16-22 950PM Line 9 Weird Echo.wav ......\n",
      "It takes 3.2568109035491943\n",
      "Predicting *6-4-22 Phone Sample 3.wav ......\n",
      "It takes 16.957194089889526\n",
      "Predicting **intermittent noise WDASAM-2831.wav ......\n",
      "It takes 0.15470623970031738\n",
      "Predicting *6-8-22 Phone Sample 6.wav ......\n",
      "It takes 4.3075549602508545\n"
     ]
    },
    {
     "ename": "NameError",
     "evalue": "name 'pd' is not defined",
     "output_type": "error",
     "traceback": [
      "\u001B[0;31m---------------------------------------------------------------------------\u001B[0m",
      "\u001B[0;31mNameError\u001B[0m                                 Traceback (most recent call last)",
      "Input \u001B[0;32mIn [20]\u001B[0m, in \u001B[0;36m<cell line: 30>\u001B[0;34m()\u001B[0m\n\u001B[1;32m     28\u001B[0m     end \u001B[38;5;241m=\u001B[39m time\u001B[38;5;241m.\u001B[39mtime()\n\u001B[1;32m     29\u001B[0m     \u001B[38;5;28mprint\u001B[39m(\u001B[38;5;124m'\u001B[39m\u001B[38;5;124mIt takes \u001B[39m\u001B[38;5;124m'\u001B[39m\u001B[38;5;241m+\u001B[39m\u001B[38;5;28mstr\u001B[39m(end\u001B[38;5;241m-\u001B[39mstart))\n\u001B[0;32m---> 30\u001B[0m pred \u001B[38;5;241m=\u001B[39m \u001B[43mpd\u001B[49m\u001B[38;5;241m.\u001B[39mDataFrame({\u001B[38;5;124m'\u001B[39m\u001B[38;5;124mFile\u001B[39m\u001B[38;5;124m'\u001B[39m:fnames,\u001B[38;5;124m'\u001B[39m\u001B[38;5;124mTimeFrame\u001B[39m\u001B[38;5;124m'\u001B[39m:tf,\u001B[38;5;124m'\u001B[39m\u001B[38;5;124mPrediction\u001B[39m\u001B[38;5;124m'\u001B[39m:output})\n",
      "\u001B[0;31mNameError\u001B[0m: name 'pd' is not defined"
     ]
    }
   ],
   "source": [
    "import scipy.signal as signal\n",
    "import scipy.io.wavfile as wavfile\n",
    "import os\n",
    "# import time\n",
    "import pandas as pd\n",
    "fpath2 = '/Users/langchenfan/Library/CloudStorage/OneDrive-iHeartMediaInc/real_radio_event/'\n",
    "wavlist = os.listdir(fpath2)\n",
    "output=[]\n",
    "tf = []\n",
    "fnames=[]\n",
    "hop = 0.2 # do analysis every 50 ms\n",
    "for i in range(len(wavlist)):\n",
    "    if wavlist[i][-4:]!='.wav':\n",
    "        continue\n",
    "    print('Predicting '+wavlist[i]+' ......')\n",
    "    # start = time.time()\n",
    "    fs, wav = wavfile.read(fpath2+wavlist[i]) #set mono=False for stereo signals\n",
    "    wav = wav[:,0]\n",
    "    j = 0\n",
    "    n=fs*30\n",
    "    while j+n<len(wav):\n",
    "        testwav = wav[j:j+n]\n",
    "        f,t,Sxx = signal.spectrogram(testwav,fs,window='hann',nperseg=1024,nfft=2048,noverlap=512) #calculate spectrogram\n",
    "        # predict with model here\n",
    "        output.append(1)\n",
    "        tf.append(j/fs)\n",
    "        fnames.append(wavlist[i])\n",
    "        j+=round(hop*fs)\n",
    "    # end = time.time()\n",
    "    # print('It takes '+str(end-start))\n",
    "pred = pd.DataFrame({'File':fnames,'TimeFrame':tf,'Prediction':output})"
   ],
   "metadata": {
    "collapsed": false,
    "pycharm": {
     "name": "#%%\n"
    }
   }
  },
  {
   "cell_type": "code",
   "execution_count": 16,
   "outputs": [
    {
     "data": {
      "text/plain": "19436"
     },
     "execution_count": 16,
     "metadata": {},
     "output_type": "execute_result"
    }
   ],
   "source": [],
   "metadata": {
    "collapsed": false,
    "pycharm": {
     "name": "#%%\n"
    }
   }
  }
 ],
 "metadata": {
  "kernelspec": {
   "display_name": "Python 3",
   "language": "python",
   "name": "python3"
  },
  "language_info": {
   "codemirror_mode": {
    "name": "ipython",
    "version": 2
   },
   "file_extension": ".py",
   "mimetype": "text/x-python",
   "name": "python",
   "nbconvert_exporter": "python",
   "pygments_lexer": "ipython2",
   "version": "2.7.6"
  }
 },
 "nbformat": 4,
 "nbformat_minor": 0
}